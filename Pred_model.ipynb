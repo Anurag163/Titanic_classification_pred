{
 "cells": [
  {
   "cell_type": "code",
   "execution_count": 6,
   "metadata": {},
   "outputs": [],
   "source": [
    "import pandas as pd\n",
    "import matplotlib.pyplot as plt\n",
    "import numpy as np\n",
    "import seaborn as sns\n",
    "import warnings\n",
    "\n",
    "#Extra setting\n",
    "pd.set_option('display.max_columns', None)\n",
    "pd.set_option('display.max_rows', None)\n",
    "pd.set_option('display.max_colwidth',None)\n",
    "warnings.filterwarnings(\"ignore\")"
   ]
  },
  {
   "cell_type": "code",
   "execution_count": 11,
   "metadata": {},
   "outputs": [
    {
     "name": "stdout",
     "output_type": "stream",
     "text": [
      "Train_df shape: (891, 12) \n",
      " Test_df shape: (418, 11)\n"
     ]
    }
   ],
   "source": [
    "#Loading train and test data\n",
    "try:\n",
    "    train_df=pd.read_csv('/home/anuragverma/Desktop/Kaggle/Titanic/Titanic_classification_pred-1/train.csv')\n",
    "    test_df=pd.read_csv('/home/anuragverma/Desktop/Kaggle/Titanic/Titanic_classification_pred-1/test.csv')\n",
    "    print('Train_df shape:',train_df.shape,'\\n','Test_df shape:',test_df.shape)\n",
    "    \n",
    "except FileNotFoundError:\n",
    "    print('File not loaded')"
   ]
  },
  {
   "cell_type": "code",
   "execution_count": null,
   "metadata": {},
   "outputs": [],
   "source": []
  }
 ],
 "metadata": {
  "kernelspec": {
   "display_name": "Python 3",
   "language": "python",
   "name": "python3"
  },
  "language_info": {
   "codemirror_mode": {
    "name": "ipython",
    "version": 3
   },
   "file_extension": ".py",
   "mimetype": "text/x-python",
   "name": "python",
   "nbconvert_exporter": "python",
   "pygments_lexer": "ipython3",
   "version": "3.12.3"
  }
 },
 "nbformat": 4,
 "nbformat_minor": 2
}
